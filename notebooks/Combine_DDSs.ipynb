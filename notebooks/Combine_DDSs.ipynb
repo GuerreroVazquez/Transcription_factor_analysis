{
 "cells": [
  {
   "cell_type": "markdown",
   "id": "ed5d3ffa-d982-4c53-bd4e-4cb8e697cefd",
   "metadata": {},
   "source": [
    "Combine DDS"
   ]
  },
  {
   "cell_type": "code",
   "execution_count": 1,
   "id": "cecc29ee-aa00-43bc-9d8a-433633020591",
   "metadata": {},
   "outputs": [],
   "source": [
    "import pandas as pd\n"
   ]
  },
  {
   "cell_type": "code",
   "execution_count": 2,
   "id": "1e25237f-9643-4cf2-840c-79a98f308ce1",
   "metadata": {},
   "outputs": [],
   "source": [
    "yo_file = \"../data/RNAseq_abundances_adjusted_combat_inmose_young.vs.old_DDS.csv\"\n",
    "ym_file = \"../data/RNAseq_abundances_adjusted_combat_inmose_young.vs.middle_DDS.csv\"\n",
    "mo_file = \"../data/RNAseq_abundances_adjusted_combat_inmose_middle.vs.old_DDS.csv\""
   ]
  },
  {
   "cell_type": "code",
   "execution_count": 3,
   "id": "cf3f3eac-7c8e-48b6-bc30-a86d9875cf78",
   "metadata": {},
   "outputs": [],
   "source": [
    "ml_file = \"../data/RNAs_z_Combat_8_Ridge_seq_RIDGE_regressor_genes_449.csv\""
   ]
  },
  {
   "cell_type": "code",
   "execution_count": 65,
   "id": "6fdcde8e-1bd6-49f8-8fb1-abac438faf7f",
   "metadata": {},
   "outputs": [],
   "source": [
    "ml_s_file = \"../data/feature_importance_Augmented_filter_by_rigde_2.csv\""
   ]
  },
  {
   "cell_type": "code",
   "execution_count": 4,
   "id": "b75fb885-fb98-4bb3-a427-32e140b3e54d",
   "metadata": {},
   "outputs": [],
   "source": [
    "yo_df = pd.read_csv(yo_file, index_col=0)\n",
    "ym_df = pd.read_csv(ym_file, index_col=0)\n",
    "mo_df = pd.read_csv(mo_file, index_col=0)"
   ]
  },
  {
   "cell_type": "code",
   "execution_count": 41,
   "id": "1acc0a4e-b278-450f-9ff4-bbb606418741",
   "metadata": {},
   "outputs": [],
   "source": [
    "ml_df = pd.read_csv(ml_file, index_col=3)"
   ]
  },
  {
   "cell_type": "code",
   "execution_count": 66,
   "id": "fce7983c-b144-4a05-8769-aa66763d4926",
   "metadata": {},
   "outputs": [],
   "source": [
    "ml_s_df = pd.read_csv(ml_s_file, index_col=2)"
   ]
  },
  {
   "cell_type": "code",
   "execution_count": null,
   "id": "a7f39a0a-bc1a-4aab-a20e-5a64c512286c",
   "metadata": {},
   "outputs": [],
   "source": []
  },
  {
   "cell_type": "code",
   "execution_count": 18,
   "id": "7d37ee65-76f6-4a89-bcdd-07ec9752202a",
   "metadata": {},
   "outputs": [],
   "source": [
    "yo_df = yo_df[yo_df['padj']<0.05]\n",
    "ym_df = ym_df[ym_df['padj']<0.05]\n",
    "mo_df = mo_df[mo_df['padj']<0.05]"
   ]
  },
  {
   "cell_type": "code",
   "execution_count": 17,
   "id": "6e5fd166-8095-4a58-9e46-e45ee055dcd4",
   "metadata": {},
   "outputs": [],
   "source": [
    "#ml_df['Coeficient'].plot.hist(bins=12, alpha=0.5)\n",
    "ml_df = ml_df[ml_df['Coeficient']>0.15]"
   ]
  },
  {
   "cell_type": "code",
   "execution_count": 19,
   "id": "f345072d-94df-4fcb-8930-41932705cea4",
   "metadata": {},
   "outputs": [],
   "source": [
    "yo_lfc = yo_df['log2FoldChange']\n",
    "ym_lfc = ym_df['log2FoldChange']\n",
    "mo_lfc = mo_df['log2FoldChange']"
   ]
  },
  {
   "cell_type": "code",
   "execution_count": 42,
   "id": "a9a383fe-5d94-42ab-a75d-e2312ac57785",
   "metadata": {},
   "outputs": [],
   "source": [
    "ml_coef = ml_df['Coeficient']"
   ]
  },
  {
   "cell_type": "code",
   "execution_count": 67,
   "id": "d973388a-d7fc-49b0-99b1-5d203c52ce8c",
   "metadata": {},
   "outputs": [],
   "source": [
    "ml_s= ml_s_df['importance']"
   ]
  },
  {
   "cell_type": "code",
   "execution_count": 68,
   "id": "45d00a7d-b97b-4845-817d-580dc37cc063",
   "metadata": {},
   "outputs": [
    {
     "data": {
      "text/html": [
       "<div>\n",
       "<style scoped>\n",
       "    .dataframe tbody tr th:only-of-type {\n",
       "        vertical-align: middle;\n",
       "    }\n",
       "\n",
       "    .dataframe tbody tr th {\n",
       "        vertical-align: top;\n",
       "    }\n",
       "\n",
       "    .dataframe thead th {\n",
       "        text-align: right;\n",
       "    }\n",
       "</style>\n",
       "<table border=\"1\" class=\"dataframe\">\n",
       "  <thead>\n",
       "    <tr style=\"text-align: right;\">\n",
       "      <th></th>\n",
       "      <th>yo</th>\n",
       "      <th>ym</th>\n",
       "      <th>mo</th>\n",
       "      <th>ml_c</th>\n",
       "      <th>ml_s</th>\n",
       "    </tr>\n",
       "  </thead>\n",
       "  <tbody>\n",
       "    <tr>\n",
       "      <th>CFH</th>\n",
       "      <td>-0.266518</td>\n",
       "      <td>NaN</td>\n",
       "      <td>NaN</td>\n",
       "      <td>NaN</td>\n",
       "      <td>NaN</td>\n",
       "    </tr>\n",
       "    <tr>\n",
       "      <th>SEMA3F</th>\n",
       "      <td>-4.102241</td>\n",
       "      <td>NaN</td>\n",
       "      <td>-3.743393</td>\n",
       "      <td>NaN</td>\n",
       "      <td>NaN</td>\n",
       "    </tr>\n",
       "    <tr>\n",
       "      <th>CFTR</th>\n",
       "      <td>-3.346279</td>\n",
       "      <td>NaN</td>\n",
       "      <td>-4.146497</td>\n",
       "      <td>NaN</td>\n",
       "      <td>NaN</td>\n",
       "    </tr>\n",
       "    <tr>\n",
       "      <th>RAD52</th>\n",
       "      <td>-0.556749</td>\n",
       "      <td>NaN</td>\n",
       "      <td>NaN</td>\n",
       "      <td>NaN</td>\n",
       "      <td>NaN</td>\n",
       "    </tr>\n",
       "    <tr>\n",
       "      <th>MYH16</th>\n",
       "      <td>7.573264</td>\n",
       "      <td>NaN</td>\n",
       "      <td>5.626051</td>\n",
       "      <td>NaN</td>\n",
       "      <td>NaN</td>\n",
       "    </tr>\n",
       "    <tr>\n",
       "      <th>...</th>\n",
       "      <td>...</td>\n",
       "      <td>...</td>\n",
       "      <td>...</td>\n",
       "      <td>...</td>\n",
       "      <td>...</td>\n",
       "    </tr>\n",
       "    <tr>\n",
       "      <th>Unnamed: 34254</th>\n",
       "      <td>-2.382550</td>\n",
       "      <td>NaN</td>\n",
       "      <td>NaN</td>\n",
       "      <td>NaN</td>\n",
       "      <td>NaN</td>\n",
       "    </tr>\n",
       "    <tr>\n",
       "      <th>Unnamed: 34260</th>\n",
       "      <td>-3.038266</td>\n",
       "      <td>NaN</td>\n",
       "      <td>NaN</td>\n",
       "      <td>NaN</td>\n",
       "      <td>NaN</td>\n",
       "    </tr>\n",
       "    <tr>\n",
       "      <th>Unnamed: 34273</th>\n",
       "      <td>-2.750935</td>\n",
       "      <td>NaN</td>\n",
       "      <td>-4.449913</td>\n",
       "      <td>NaN</td>\n",
       "      <td>NaN</td>\n",
       "    </tr>\n",
       "    <tr>\n",
       "      <th>PDE4C.1</th>\n",
       "      <td>-3.564077</td>\n",
       "      <td>5.053504</td>\n",
       "      <td>-8.617581</td>\n",
       "      <td>NaN</td>\n",
       "      <td>NaN</td>\n",
       "    </tr>\n",
       "    <tr>\n",
       "      <th>Unnamed: 34313</th>\n",
       "      <td>-0.984240</td>\n",
       "      <td>NaN</td>\n",
       "      <td>NaN</td>\n",
       "      <td>NaN</td>\n",
       "      <td>NaN</td>\n",
       "    </tr>\n",
       "  </tbody>\n",
       "</table>\n",
       "<p>3555 rows × 5 columns</p>\n",
       "</div>"
      ],
      "text/plain": [
       "                      yo        ym        mo  ml_c  ml_s\n",
       "CFH            -0.266518       NaN       NaN   NaN   NaN\n",
       "SEMA3F         -4.102241       NaN -3.743393   NaN   NaN\n",
       "CFTR           -3.346279       NaN -4.146497   NaN   NaN\n",
       "RAD52          -0.556749       NaN       NaN   NaN   NaN\n",
       "MYH16           7.573264       NaN  5.626051   NaN   NaN\n",
       "...                  ...       ...       ...   ...   ...\n",
       "Unnamed: 34254 -2.382550       NaN       NaN   NaN   NaN\n",
       "Unnamed: 34260 -3.038266       NaN       NaN   NaN   NaN\n",
       "Unnamed: 34273 -2.750935       NaN -4.449913   NaN   NaN\n",
       "PDE4C.1        -3.564077  5.053504 -8.617581   NaN   NaN\n",
       "Unnamed: 34313 -0.984240       NaN       NaN   NaN   NaN\n",
       "\n",
       "[3555 rows x 5 columns]"
      ]
     },
     "execution_count": 68,
     "metadata": {},
     "output_type": "execute_result"
    }
   ],
   "source": [
    "all_de_df = yo_lfc.rename('yo').to_frame().join(ym_lfc.rename('ym')).join(mo_lfc.rename('mo')).join(ml_coef.rename('ml_c')).join(ml_s.rename('ml_s'))\n",
    "all_de_df"
   ]
  },
  {
   "cell_type": "code",
   "execution_count": 69,
   "id": "5469b49b-609b-4f05-bd9e-549d87c88b5d",
   "metadata": {},
   "outputs": [
    {
     "data": {
      "text/plain": [
       "yo      0.559328\n",
       "ym           NaN\n",
       "mo      0.329616\n",
       "ml_c    1.164396\n",
       "ml_s         NaN\n",
       "Name: COX7C, dtype: float64"
      ]
     },
     "execution_count": 69,
     "metadata": {},
     "output_type": "execute_result"
    }
   ],
   "source": [
    "all_de_df.loc['COX7C']"
   ]
  },
  {
   "cell_type": "code",
   "execution_count": 49,
   "id": "c9c9f6b7-a390-4134-9879-a283cd2b933e",
   "metadata": {},
   "outputs": [
    {
     "data": {
      "text/html": [
       "<div>\n",
       "<style scoped>\n",
       "    .dataframe tbody tr th:only-of-type {\n",
       "        vertical-align: middle;\n",
       "    }\n",
       "\n",
       "    .dataframe tbody tr th {\n",
       "        vertical-align: top;\n",
       "    }\n",
       "\n",
       "    .dataframe thead th {\n",
       "        text-align: right;\n",
       "    }\n",
       "</style>\n",
       "<table border=\"1\" class=\"dataframe\">\n",
       "  <thead>\n",
       "    <tr style=\"text-align: right;\">\n",
       "      <th></th>\n",
       "      <th>yo</th>\n",
       "      <th>ym</th>\n",
       "      <th>mo</th>\n",
       "      <th>ml_c</th>\n",
       "    </tr>\n",
       "  </thead>\n",
       "  <tbody>\n",
       "    <tr>\n",
       "      <th>CFH</th>\n",
       "      <td>False</td>\n",
       "      <td>True</td>\n",
       "      <td>True</td>\n",
       "      <td>True</td>\n",
       "    </tr>\n",
       "    <tr>\n",
       "      <th>SEMA3F</th>\n",
       "      <td>False</td>\n",
       "      <td>True</td>\n",
       "      <td>False</td>\n",
       "      <td>True</td>\n",
       "    </tr>\n",
       "    <tr>\n",
       "      <th>CFTR</th>\n",
       "      <td>False</td>\n",
       "      <td>True</td>\n",
       "      <td>False</td>\n",
       "      <td>True</td>\n",
       "    </tr>\n",
       "    <tr>\n",
       "      <th>RAD52</th>\n",
       "      <td>False</td>\n",
       "      <td>True</td>\n",
       "      <td>True</td>\n",
       "      <td>True</td>\n",
       "    </tr>\n",
       "    <tr>\n",
       "      <th>MYH16</th>\n",
       "      <td>False</td>\n",
       "      <td>True</td>\n",
       "      <td>False</td>\n",
       "      <td>True</td>\n",
       "    </tr>\n",
       "    <tr>\n",
       "      <th>...</th>\n",
       "      <td>...</td>\n",
       "      <td>...</td>\n",
       "      <td>...</td>\n",
       "      <td>...</td>\n",
       "    </tr>\n",
       "    <tr>\n",
       "      <th>Unnamed: 34254</th>\n",
       "      <td>False</td>\n",
       "      <td>True</td>\n",
       "      <td>True</td>\n",
       "      <td>True</td>\n",
       "    </tr>\n",
       "    <tr>\n",
       "      <th>Unnamed: 34260</th>\n",
       "      <td>False</td>\n",
       "      <td>True</td>\n",
       "      <td>True</td>\n",
       "      <td>True</td>\n",
       "    </tr>\n",
       "    <tr>\n",
       "      <th>Unnamed: 34273</th>\n",
       "      <td>False</td>\n",
       "      <td>True</td>\n",
       "      <td>False</td>\n",
       "      <td>True</td>\n",
       "    </tr>\n",
       "    <tr>\n",
       "      <th>PDE4C.1</th>\n",
       "      <td>False</td>\n",
       "      <td>False</td>\n",
       "      <td>False</td>\n",
       "      <td>True</td>\n",
       "    </tr>\n",
       "    <tr>\n",
       "      <th>Unnamed: 34313</th>\n",
       "      <td>False</td>\n",
       "      <td>True</td>\n",
       "      <td>True</td>\n",
       "      <td>True</td>\n",
       "    </tr>\n",
       "  </tbody>\n",
       "</table>\n",
       "<p>3555 rows × 4 columns</p>\n",
       "</div>"
      ],
      "text/plain": [
       "                   yo     ym     mo  ml_c\n",
       "CFH             False   True   True  True\n",
       "SEMA3F          False   True  False  True\n",
       "CFTR            False   True  False  True\n",
       "RAD52           False   True   True  True\n",
       "MYH16           False   True  False  True\n",
       "...               ...    ...    ...   ...\n",
       "Unnamed: 34254  False   True   True  True\n",
       "Unnamed: 34260  False   True   True  True\n",
       "Unnamed: 34273  False   True  False  True\n",
       "PDE4C.1         False  False  False  True\n",
       "Unnamed: 34313  False   True   True  True\n",
       "\n",
       "[3555 rows x 4 columns]"
      ]
     },
     "execution_count": 49,
     "metadata": {},
     "output_type": "execute_result"
    }
   ],
   "source": [
    "all_de_df.isnull()"
   ]
  },
  {
   "cell_type": "code",
   "execution_count": 62,
   "id": "56a0348f-cc10-4fed-87d3-5ac0a1a84a2a",
   "metadata": {},
   "outputs": [
    {
     "data": {
      "text/html": [
       "<div>\n",
       "<style scoped>\n",
       "    .dataframe tbody tr th:only-of-type {\n",
       "        vertical-align: middle;\n",
       "    }\n",
       "\n",
       "    .dataframe tbody tr th {\n",
       "        vertical-align: top;\n",
       "    }\n",
       "\n",
       "    .dataframe thead th {\n",
       "        text-align: right;\n",
       "    }\n",
       "</style>\n",
       "<table border=\"1\" class=\"dataframe\">\n",
       "  <thead>\n",
       "    <tr style=\"text-align: right;\">\n",
       "      <th></th>\n",
       "      <th>yo</th>\n",
       "      <th>ym</th>\n",
       "      <th>mo</th>\n",
       "      <th>ml_c</th>\n",
       "    </tr>\n",
       "  </thead>\n",
       "  <tbody>\n",
       "    <tr>\n",
       "      <th>CFH</th>\n",
       "      <td>-0.266518</td>\n",
       "      <td>NaN</td>\n",
       "      <td>NaN</td>\n",
       "      <td>NaN</td>\n",
       "    </tr>\n",
       "    <tr>\n",
       "      <th>SEMA3F</th>\n",
       "      <td>-4.102241</td>\n",
       "      <td>NaN</td>\n",
       "      <td>-3.743393</td>\n",
       "      <td>NaN</td>\n",
       "    </tr>\n",
       "    <tr>\n",
       "      <th>CFTR</th>\n",
       "      <td>-3.346279</td>\n",
       "      <td>NaN</td>\n",
       "      <td>-4.146497</td>\n",
       "      <td>NaN</td>\n",
       "    </tr>\n",
       "    <tr>\n",
       "      <th>RAD52</th>\n",
       "      <td>-0.556749</td>\n",
       "      <td>NaN</td>\n",
       "      <td>NaN</td>\n",
       "      <td>NaN</td>\n",
       "    </tr>\n",
       "    <tr>\n",
       "      <th>MYH16</th>\n",
       "      <td>7.573264</td>\n",
       "      <td>NaN</td>\n",
       "      <td>5.626051</td>\n",
       "      <td>NaN</td>\n",
       "    </tr>\n",
       "  </tbody>\n",
       "</table>\n",
       "</div>"
      ],
      "text/plain": [
       "              yo  ym        mo  ml_c\n",
       "CFH    -0.266518 NaN       NaN   NaN\n",
       "SEMA3F -4.102241 NaN -3.743393   NaN\n",
       "CFTR   -3.346279 NaN -4.146497   NaN\n",
       "RAD52  -0.556749 NaN       NaN   NaN\n",
       "MYH16   7.573264 NaN  5.626051   NaN"
      ]
     },
     "execution_count": 62,
     "metadata": {},
     "output_type": "execute_result"
    }
   ],
   "source": [
    "all_de_df.head()"
   ]
  },
  {
   "cell_type": "code",
   "execution_count": 70,
   "id": "23a61cad-fd5a-4c25-9fc8-d50606c703e8",
   "metadata": {},
   "outputs": [],
   "source": [
    "all_de_df.to_csv(\"results/RNAseq_abundance_adjusted_combat_inmose_all_lfc.csv\")"
   ]
  },
  {
   "cell_type": "code",
   "execution_count": 71,
   "id": "36681bd8-409e-41bc-b9c8-20897af88715",
   "metadata": {},
   "outputs": [
    {
     "data": {
      "text/html": [
       "<div>\n",
       "<style scoped>\n",
       "    .dataframe tbody tr th:only-of-type {\n",
       "        vertical-align: middle;\n",
       "    }\n",
       "\n",
       "    .dataframe tbody tr th {\n",
       "        vertical-align: top;\n",
       "    }\n",
       "\n",
       "    .dataframe thead th {\n",
       "        text-align: right;\n",
       "    }\n",
       "</style>\n",
       "<table border=\"1\" class=\"dataframe\">\n",
       "  <thead>\n",
       "    <tr style=\"text-align: right;\">\n",
       "      <th></th>\n",
       "      <th>yo</th>\n",
       "      <th>ym</th>\n",
       "      <th>mo</th>\n",
       "      <th>ml_c</th>\n",
       "      <th>ml_s</th>\n",
       "    </tr>\n",
       "  </thead>\n",
       "  <tbody>\n",
       "    <tr>\n",
       "      <th>NDUFB4</th>\n",
       "      <td>5.239622</td>\n",
       "      <td>-4.034287</td>\n",
       "      <td>9.273909</td>\n",
       "      <td>0.474573</td>\n",
       "      <td>0.071956</td>\n",
       "    </tr>\n",
       "  </tbody>\n",
       "</table>\n",
       "</div>"
      ],
      "text/plain": [
       "              yo        ym        mo      ml_c      ml_s\n",
       "NDUFB4  5.239622 -4.034287  9.273909  0.474573  0.071956"
      ]
     },
     "execution_count": 71,
     "metadata": {},
     "output_type": "execute_result"
    }
   ],
   "source": [
    "all_de_df.dropna(how='any')\n"
   ]
  },
  {
   "cell_type": "code",
   "execution_count": 77,
   "id": "53afbc53-17d0-4226-9b52-4eba8eccb8cc",
   "metadata": {},
   "outputs": [
    {
     "name": "stdout",
     "output_type": "stream",
     "text": [
      "{'yo': -0.2665178557265618, 'ym': nan, 'mo': nan, 'ml_c': nan, 'ml_s': nan}\n",
      "CFH\n",
      "{'yo': -4.102240623690333, 'ym': nan, 'mo': -3.743392825322583, 'ml_c': nan, 'ml_s': nan}\n",
      "SEMA3F\n",
      "{'yo': -3.346279167877878, 'ym': nan, 'mo': -4.1464965299896495, 'ml_c': nan, 'ml_s': nan}\n",
      "CFTR\n"
     ]
    }
   ],
   "source": [
    "for index, row in all_de_df[:3].iterrows():\n",
    "    print(dict(row))\n",
    "    print(index)"
   ]
  },
  {
   "cell_type": "code",
   "execution_count": 78,
   "id": "c8e3e1d5-e4f8-4b2d-818b-2d70d7ad70c6",
   "metadata": {},
   "outputs": [
    {
     "data": {
      "text/html": [
       "<div>\n",
       "<style scoped>\n",
       "    .dataframe tbody tr th:only-of-type {\n",
       "        vertical-align: middle;\n",
       "    }\n",
       "\n",
       "    .dataframe tbody tr th {\n",
       "        vertical-align: top;\n",
       "    }\n",
       "\n",
       "    .dataframe thead th {\n",
       "        text-align: right;\n",
       "    }\n",
       "</style>\n",
       "<table border=\"1\" class=\"dataframe\">\n",
       "  <thead>\n",
       "    <tr style=\"text-align: right;\">\n",
       "      <th></th>\n",
       "      <th>index</th>\n",
       "      <th>yo</th>\n",
       "      <th>ym</th>\n",
       "      <th>mo</th>\n",
       "      <th>ml_c</th>\n",
       "      <th>ml_s</th>\n",
       "    </tr>\n",
       "  </thead>\n",
       "  <tbody>\n",
       "    <tr>\n",
       "      <th>0</th>\n",
       "      <td>CFH</td>\n",
       "      <td>-0.266518</td>\n",
       "      <td>3.0</td>\n",
       "      <td>NaN</td>\n",
       "      <td>None</td>\n",
       "      <td>-0.5</td>\n",
       "    </tr>\n",
       "    <tr>\n",
       "      <th>1</th>\n",
       "      <td>SEMA3F</td>\n",
       "      <td>-4.100000</td>\n",
       "      <td>NaN</td>\n",
       "      <td>-3.0</td>\n",
       "      <td>None</td>\n",
       "      <td>NaN</td>\n",
       "    </tr>\n",
       "    <tr>\n",
       "      <th>2</th>\n",
       "      <td>CFTR</td>\n",
       "      <td>-3.340000</td>\n",
       "      <td>NaN</td>\n",
       "      <td>-4.0</td>\n",
       "      <td>None</td>\n",
       "      <td>0.5</td>\n",
       "    </tr>\n",
       "  </tbody>\n",
       "</table>\n",
       "</div>"
      ],
      "text/plain": [
       "    index        yo   ym   mo  ml_c  ml_s\n",
       "0     CFH -0.266518  3.0  NaN  None  -0.5\n",
       "1  SEMA3F -4.100000  NaN -3.0  None   NaN\n",
       "2    CFTR -3.340000  NaN -4.0  None   0.5"
      ]
     },
     "execution_count": 78,
     "metadata": {},
     "output_type": "execute_result"
    }
   ],
   "source": [
    "ddf_dict = [{'index': 'CFH','yo': -0.2665178557265618, 'ym': 3, 'mo': None, 'ml_c': None, 'ml_s': -0.5},\n",
    "                {'index': 'SEMA3F','yo': -4.10, 'ym': None, 'mo': -3, 'ml_c': None, 'ml_s': None},\n",
    "                {'index': 'CFTR', 'yo': -3.34, 'ym': None, 'mo': -4, 'ml_c': None, 'ml_s': 0.5}]\n",
    "df = pd.DataFrame.from_dict(ddf_dict)\n",
    "df"
   ]
  },
  {
   "cell_type": "code",
   "execution_count": 80,
   "id": "69011810-3b0e-4618-a2a6-d194263b8419",
   "metadata": {},
   "outputs": [
    {
     "data": {
      "text/html": [
       "<div>\n",
       "<style scoped>\n",
       "    .dataframe tbody tr th:only-of-type {\n",
       "        vertical-align: middle;\n",
       "    }\n",
       "\n",
       "    .dataframe tbody tr th {\n",
       "        vertical-align: top;\n",
       "    }\n",
       "\n",
       "    .dataframe thead th {\n",
       "        text-align: right;\n",
       "    }\n",
       "</style>\n",
       "<table border=\"1\" class=\"dataframe\">\n",
       "  <thead>\n",
       "    <tr style=\"text-align: right;\">\n",
       "      <th></th>\n",
       "      <th>yo</th>\n",
       "      <th>ym</th>\n",
       "      <th>mo</th>\n",
       "      <th>ml_c</th>\n",
       "      <th>ml_s</th>\n",
       "    </tr>\n",
       "    <tr>\n",
       "      <th>index</th>\n",
       "      <th></th>\n",
       "      <th></th>\n",
       "      <th></th>\n",
       "      <th></th>\n",
       "      <th></th>\n",
       "    </tr>\n",
       "  </thead>\n",
       "  <tbody>\n",
       "    <tr>\n",
       "      <th>CFH</th>\n",
       "      <td>-0.266518</td>\n",
       "      <td>3.0</td>\n",
       "      <td>NaN</td>\n",
       "      <td>None</td>\n",
       "      <td>-0.5</td>\n",
       "    </tr>\n",
       "    <tr>\n",
       "      <th>SEMA3F</th>\n",
       "      <td>-4.100000</td>\n",
       "      <td>NaN</td>\n",
       "      <td>-3.0</td>\n",
       "      <td>None</td>\n",
       "      <td>NaN</td>\n",
       "    </tr>\n",
       "    <tr>\n",
       "      <th>CFTR</th>\n",
       "      <td>-3.340000</td>\n",
       "      <td>NaN</td>\n",
       "      <td>-4.0</td>\n",
       "      <td>None</td>\n",
       "      <td>0.5</td>\n",
       "    </tr>\n",
       "  </tbody>\n",
       "</table>\n",
       "</div>"
      ],
      "text/plain": [
       "              yo   ym   mo  ml_c  ml_s\n",
       "index                                 \n",
       "CFH    -0.266518  3.0  NaN  None  -0.5\n",
       "SEMA3F -4.100000  NaN -3.0  None   NaN\n",
       "CFTR   -3.340000  NaN -4.0  None   0.5"
      ]
     },
     "execution_count": 80,
     "metadata": {},
     "output_type": "execute_result"
    }
   ],
   "source": [
    "df = df.set_index('index')\n",
    "df"
   ]
  },
  {
   "cell_type": "code",
   "execution_count": null,
   "id": "79f7eeae-2d47-473c-8a58-8d56cbbaf9df",
   "metadata": {},
   "outputs": [],
   "source": []
  }
 ],
 "metadata": {
  "kernelspec": {
   "display_name": "Python 3 (ipykernel)",
   "language": "python",
   "name": "python3"
  },
  "language_info": {
   "codemirror_mode": {
    "name": "ipython",
    "version": 3
   },
   "file_extension": ".py",
   "mimetype": "text/x-python",
   "name": "python",
   "nbconvert_exporter": "python",
   "pygments_lexer": "ipython3",
   "version": "3.11.6"
  }
 },
 "nbformat": 4,
 "nbformat_minor": 5
}
