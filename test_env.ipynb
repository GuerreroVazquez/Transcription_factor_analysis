{
 "cells": [
  {
   "cell_type": "code",
   "execution_count": 2,
   "id": "df221c3d-1de8-4325-9a4e-0b41ff50ec23",
   "metadata": {},
   "outputs": [
    {
     "name": "stderr",
     "output_type": "stream",
     "text": [
      "OMP: Info #276: omp_set_nested routine deprecated, please use omp_set_max_active_levels instead.\n"
     ]
    }
   ],
   "source": [
    "import pandas as pd\n",
    "import scanpy as sc\n",
    "import numpy as np\n",
    "import liana as ln\n",
    "import decoupler as dc\n",
    "import matplotlib.pyplot as plt\n",
    "import seaborn as sns"
   ]
  },
  {
   "cell_type": "code",
   "execution_count": 3,
   "id": "b8813fe5-42d9-4e9a-bbb9-a674d927cbf5",
   "metadata": {},
   "outputs": [
    {
     "name": "stderr",
     "output_type": "stream",
     "text": [
      "Downloading data from `https://omnipathdb.org/queries/enzsub?format=json`\n",
      "Downloading data from `https://omnipathdb.org/queries/interactions?format=json`\n",
      "Downloading data from `https://omnipathdb.org/queries/complexes?format=json`\n",
      "Downloading data from `https://omnipathdb.org/queries/annotations?format=json`\n",
      "Downloading data from `https://omnipathdb.org/queries/intercell?format=json`\n",
      "Downloading data from `https://omnipathdb.org/about?format=text`\n",
      "Downloading data from `https://omnipathdb.org/interactions?datasets=collectri&fields=curation_effort%2Cevidences%2Creferences%2Csources&format=tsv&genesymbols=1&loops=1&organisms=9606`\n"
     ]
    },
    {
     "data": {
      "application/vnd.jupyter.widget-view+json": {
       "model_id": "5370b5c346b04b3fbef7f00a33f76110",
       "version_major": 2,
       "version_minor": 0
      },
      "text/plain": [
       "0.00B [00:00, ?B/s]"
      ]
     },
     "metadata": {},
     "output_type": "display_data"
    },
    {
     "name": "stderr",
     "output_type": "stream",
     "text": [
      "Downloading data from `https://omnipathdb.org/interactions?databases=CollecTRI&datasets=tf_mirna&fields=curation_effort%2Cevidences%2Creferences%2Csources&format=tsv&genesymbols=1`\n"
     ]
    },
    {
     "data": {
      "application/vnd.jupyter.widget-view+json": {
       "model_id": "005a83f5c7b0452f9add7d22933a96ca",
       "version_major": 2,
       "version_minor": 0
      },
      "text/plain": [
       "0.00B [00:00, ?B/s]"
      ]
     },
     "metadata": {},
     "output_type": "display_data"
    },
    {
     "data": {
      "text/html": [
       "<div>\n",
       "<style scoped>\n",
       "    .dataframe tbody tr th:only-of-type {\n",
       "        vertical-align: middle;\n",
       "    }\n",
       "\n",
       "    .dataframe tbody tr th {\n",
       "        vertical-align: top;\n",
       "    }\n",
       "\n",
       "    .dataframe thead th {\n",
       "        text-align: right;\n",
       "    }\n",
       "</style>\n",
       "<table border=\"1\" class=\"dataframe\">\n",
       "  <thead>\n",
       "    <tr style=\"text-align: right;\">\n",
       "      <th></th>\n",
       "      <th>source</th>\n",
       "      <th>target</th>\n",
       "      <th>weight</th>\n",
       "      <th>PMID</th>\n",
       "    </tr>\n",
       "  </thead>\n",
       "  <tbody>\n",
       "    <tr>\n",
       "      <th>0</th>\n",
       "      <td>MYC</td>\n",
       "      <td>TERT</td>\n",
       "      <td>1</td>\n",
       "      <td>10022128;10491298;10606235;10637317;10723141;1...</td>\n",
       "    </tr>\n",
       "    <tr>\n",
       "      <th>1</th>\n",
       "      <td>SPI1</td>\n",
       "      <td>BGLAP</td>\n",
       "      <td>1</td>\n",
       "      <td>10022617</td>\n",
       "    </tr>\n",
       "    <tr>\n",
       "      <th>2</th>\n",
       "      <td>SMAD3</td>\n",
       "      <td>JUN</td>\n",
       "      <td>1</td>\n",
       "      <td>10022869;12374795</td>\n",
       "    </tr>\n",
       "    <tr>\n",
       "      <th>3</th>\n",
       "      <td>SMAD4</td>\n",
       "      <td>JUN</td>\n",
       "      <td>1</td>\n",
       "      <td>10022869;12374795</td>\n",
       "    </tr>\n",
       "    <tr>\n",
       "      <th>4</th>\n",
       "      <td>STAT5A</td>\n",
       "      <td>IL2</td>\n",
       "      <td>1</td>\n",
       "      <td>10022878;11435608;17182565;17911616;22854263;2...</td>\n",
       "    </tr>\n",
       "    <tr>\n",
       "      <th>...</th>\n",
       "      <td>...</td>\n",
       "      <td>...</td>\n",
       "      <td>...</td>\n",
       "      <td>...</td>\n",
       "    </tr>\n",
       "    <tr>\n",
       "      <th>43173</th>\n",
       "      <td>NFKB</td>\n",
       "      <td>hsa-miR-143-3p</td>\n",
       "      <td>1</td>\n",
       "      <td>19472311</td>\n",
       "    </tr>\n",
       "    <tr>\n",
       "      <th>43174</th>\n",
       "      <td>AP1</td>\n",
       "      <td>hsa-miR-206</td>\n",
       "      <td>1</td>\n",
       "      <td>19721712</td>\n",
       "    </tr>\n",
       "    <tr>\n",
       "      <th>43175</th>\n",
       "      <td>NFKB</td>\n",
       "      <td>hsa-miR-21-5p</td>\n",
       "      <td>1</td>\n",
       "      <td>20813833;22387281</td>\n",
       "    </tr>\n",
       "    <tr>\n",
       "      <th>43176</th>\n",
       "      <td>NFKB</td>\n",
       "      <td>hsa-miR-224-5p</td>\n",
       "      <td>1</td>\n",
       "      <td>23474441;23988648</td>\n",
       "    </tr>\n",
       "    <tr>\n",
       "      <th>43177</th>\n",
       "      <td>AP1</td>\n",
       "      <td>hsa-miR-144</td>\n",
       "      <td>1</td>\n",
       "      <td>23546882</td>\n",
       "    </tr>\n",
       "  </tbody>\n",
       "</table>\n",
       "<p>43178 rows × 4 columns</p>\n",
       "</div>"
      ],
      "text/plain": [
       "       source          target  weight  \\\n",
       "0         MYC            TERT       1   \n",
       "1        SPI1           BGLAP       1   \n",
       "2       SMAD3             JUN       1   \n",
       "3       SMAD4             JUN       1   \n",
       "4      STAT5A             IL2       1   \n",
       "...       ...             ...     ...   \n",
       "43173    NFKB  hsa-miR-143-3p       1   \n",
       "43174     AP1     hsa-miR-206       1   \n",
       "43175    NFKB   hsa-miR-21-5p       1   \n",
       "43176    NFKB  hsa-miR-224-5p       1   \n",
       "43177     AP1     hsa-miR-144       1   \n",
       "\n",
       "                                                    PMID  \n",
       "0      10022128;10491298;10606235;10637317;10723141;1...  \n",
       "1                                               10022617  \n",
       "2                                      10022869;12374795  \n",
       "3                                      10022869;12374795  \n",
       "4      10022878;11435608;17182565;17911616;22854263;2...  \n",
       "...                                                  ...  \n",
       "43173                                           19472311  \n",
       "43174                                           19721712  \n",
       "43175                                  20813833;22387281  \n",
       "43176                                  23474441;23988648  \n",
       "43177                                           23546882  \n",
       "\n",
       "[43178 rows x 4 columns]"
      ]
     },
     "execution_count": 3,
     "metadata": {},
     "output_type": "execute_result"
    }
   ],
   "source": [
    "dc.get_collectri()"
   ]
  }
 ],
 "metadata": {
  "kernelspec": {
   "display_name": "Python 3 (ipykernel)",
   "language": "python",
   "name": "python3"
  },
  "language_info": {
   "codemirror_mode": {
    "name": "ipython",
    "version": 3
   },
   "file_extension": ".py",
   "mimetype": "text/x-python",
   "name": "python",
   "nbconvert_exporter": "python",
   "pygments_lexer": "ipython3",
   "version": "3.11.6"
  }
 },
 "nbformat": 4,
 "nbformat_minor": 5
}
